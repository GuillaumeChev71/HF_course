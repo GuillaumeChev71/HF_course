{
 "cells": [
  {
   "cell_type": "code",
   "execution_count": null,
   "metadata": {},
   "outputs": [],
   "source": [
    "pip install opentelemetry-sdk opentelemetry-exporter-otlp openinference-instrumentation-smolagents"
   ]
  },
  {
   "cell_type": "code",
   "execution_count": 5,
   "metadata": {},
   "outputs": [
    {
     "name": "stdout",
     "output_type": "stream",
     "text": [
      "Collecting markdownify\n",
      "  Downloading markdownify-1.1.0-py3-none-any.whl.metadata (9.1 kB)\n",
      "Requirement already satisfied: beautifulsoup4<5,>=4.9 in c:\\users\\33781\\appdata\\local\\programs\\python\\python310\\lib\\site-packages (from markdownify) (4.13.3)\n",
      "Requirement already satisfied: six<2,>=1.15 in c:\\users\\33781\\appdata\\local\\programs\\python\\python310\\lib\\site-packages (from markdownify) (1.17.0)\n",
      "Requirement already satisfied: soupsieve>1.2 in c:\\users\\33781\\appdata\\local\\programs\\python\\python310\\lib\\site-packages (from beautifulsoup4<5,>=4.9->markdownify) (2.6)\n",
      "Requirement already satisfied: typing-extensions>=4.0.0 in c:\\users\\33781\\appdata\\local\\programs\\python\\python310\\lib\\site-packages (from beautifulsoup4<5,>=4.9->markdownify) (4.12.2)\n",
      "Downloading markdownify-1.1.0-py3-none-any.whl (13 kB)\n",
      "Installing collected packages: markdownify\n",
      "Successfully installed markdownify-1.1.0\n",
      "Note: you may need to restart the kernel to use updated packages.\n"
     ]
    }
   ],
   "source": [
    "pip install markdownify"
   ]
  },
  {
   "cell_type": "code",
   "execution_count": 1,
   "metadata": {},
   "outputs": [],
   "source": [
    "import os\n",
    "import base64\n",
    "\n",
    "LANGFUSE_PUBLIC_KEY=\"pk-lf-bbcf2fc1-c38c-4809-aa89-f490bf5911a5\"\n",
    "LANGFUSE_SECRET_KEY=\"sk-lf-1dd8c16e-59c3-4ed3-84e9-a86f39a621af\"\n",
    "LANGFUSE_AUTH=base64.b64encode(f\"{LANGFUSE_PUBLIC_KEY}:{LANGFUSE_SECRET_KEY}\".encode()).decode()\n",
    "\n",
    "os.environ[\"OTEL_EXPORTER_OTLP_ENDPOINT\"] = \"https://cloud.langfuse.com/api/public/otel\" # EU data region\n",
    "# os.environ[\"OTEL_EXPORTER_OTLP_ENDPOINT\"] = \"https://us.cloud.langfuse.com/api/public/otel\" # US data region\n",
    "os.environ[\"OTEL_EXPORTER_OTLP_HEADERS\"] = f\"Authorization=Basic {LANGFUSE_AUTH}\""
   ]
  },
  {
   "cell_type": "code",
   "execution_count": 3,
   "metadata": {},
   "outputs": [
    {
     "name": "stderr",
     "output_type": "stream",
     "text": [
      "Attempting to instrument while already instrumented\n"
     ]
    }
   ],
   "source": [
    "from opentelemetry.sdk.trace import TracerProvider\n",
    "\n",
    "from openinference.instrumentation.smolagents import SmolagentsInstrumentor\n",
    "from opentelemetry.exporter.otlp.proto.http.trace_exporter import OTLPSpanExporter\n",
    "from opentelemetry.sdk.trace.export import SimpleSpanProcessor\n",
    "\n",
    "trace_provider = TracerProvider()\n",
    "trace_provider.add_span_processor(SimpleSpanProcessor(OTLPSpanExporter()))\n",
    "\n",
    "SmolagentsInstrumentor().instrument(tracer_provider=trace_provider)"
   ]
  },
  {
   "cell_type": "code",
   "execution_count": null,
   "metadata": {},
   "outputs": [],
   "source": [
    "from smolagents import CodeAgent, InferenceClientModel, LiteLLMModel\n",
    "\n",
    "# Création du modèle Ollama local\n",
    "model = LiteLLMModel(\n",
    "        model_id=\"ollama_chat/qwen2:7b\",  # le modèle tel que listé par ollama\n",
    "        api_key=\"ollama\"                 # clé spéciale pour identificaton locale\n",
    "    )\n",
    "\n",
    "agent = CodeAgent(tools=[], model=model)\n",
    "\n",
    "alfred_agent = agent.from_hub('sergiopaniego/AlfredAgent', trust_remote_code=True)\n",
    "alfred_agent.run(\"Give me the best playlist for a party at Wayne's mansion. The party idea is a 'villain masquerade' theme\")  \n",
    "\n",
    "\n",
    "\n"
   ]
  }
 ],
 "metadata": {
  "kernelspec": {
   "display_name": "Python 3",
   "language": "python",
   "name": "python3"
  },
  "language_info": {
   "codemirror_mode": {
    "name": "ipython",
    "version": 3
   },
   "file_extension": ".py",
   "mimetype": "text/x-python",
   "name": "python",
   "nbconvert_exporter": "python",
   "pygments_lexer": "ipython3",
   "version": "3.10.0"
  }
 },
 "nbformat": 4,
 "nbformat_minor": 2
}
